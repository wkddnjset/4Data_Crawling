{
 "cells": [
  {
   "cell_type": "markdown",
   "metadata": {},
   "source": [
    "# 자료형\n",
    "### Int"
   ]
  },
  {
   "cell_type": "code",
   "execution_count": 33,
   "metadata": {},
   "outputs": [
    {
     "name": "stdout",
     "output_type": "stream",
     "text": [
      "2\n",
      "3\n",
      "20\n",
      "20\n"
     ]
    }
   ],
   "source": [
    "num = 2\n",
    "print(num)\n",
    "print(num + 1) \n",
    "print(num * 10) \n",
    "print(num * int(\"10\")) "
   ]
  },
  {
   "cell_type": "markdown",
   "metadata": {},
   "source": [
    "### String"
   ]
  },
  {
   "cell_type": "code",
   "execution_count": 29,
   "metadata": {},
   "outputs": [
    {
     "name": "stdout",
     "output_type": "stream",
     "text": [
      "서장원\n",
      "서장원님\n",
      "서장원1\n"
     ]
    },
    {
     "ename": "TypeError",
     "evalue": "can only concatenate str (not \"int\") to str",
     "output_type": "error",
     "traceback": [
      "\u001b[1;31m---------------------------------------------------------------------------\u001b[0m",
      "\u001b[1;31mTypeError\u001b[0m                                 Traceback (most recent call last)",
      "\u001b[1;32m<ipython-input-29-56734f4e86c7>\u001b[0m in \u001b[0;36m<module>\u001b[1;34m\u001b[0m\n\u001b[0;32m      3\u001b[0m \u001b[0mprint\u001b[0m\u001b[1;33m(\u001b[0m\u001b[0mname\u001b[0m \u001b[1;33m+\u001b[0m \u001b[1;34m\"님\"\u001b[0m\u001b[1;33m)\u001b[0m\u001b[1;33m\u001b[0m\u001b[1;33m\u001b[0m\u001b[0m\n\u001b[0;32m      4\u001b[0m \u001b[0mprint\u001b[0m\u001b[1;33m(\u001b[0m\u001b[0mname\u001b[0m \u001b[1;33m+\u001b[0m \u001b[0mstr\u001b[0m\u001b[1;33m(\u001b[0m\u001b[1;36m1\u001b[0m\u001b[1;33m)\u001b[0m\u001b[1;33m)\u001b[0m\u001b[1;33m\u001b[0m\u001b[1;33m\u001b[0m\u001b[0m\n\u001b[1;32m----> 5\u001b[1;33m \u001b[0mprint\u001b[0m\u001b[1;33m(\u001b[0m\u001b[0mname\u001b[0m \u001b[1;33m+\u001b[0m \u001b[1;36m1\u001b[0m\u001b[1;33m)\u001b[0m\u001b[1;33m\u001b[0m\u001b[1;33m\u001b[0m\u001b[0m\n\u001b[0m",
      "\u001b[1;31mTypeError\u001b[0m: can only concatenate str (not \"int\") to str"
     ]
    }
   ],
   "source": [
    "name = \"서장원\"\n",
    "print(name)\n",
    "print(name + \"님\")\n",
    "print(name + str(1))\n",
    "print(name + 1)"
   ]
  },
  {
   "cell_type": "markdown",
   "metadata": {},
   "source": [
    "### List"
   ]
  },
  {
   "cell_type": "code",
   "execution_count": 14,
   "metadata": {},
   "outputs": [
    {
     "name": "stdout",
     "output_type": "stream",
     "text": [
      "[20, 21, 23, 34]\n",
      "20\n",
      "21\n",
      "23\n",
      "34\n"
     ]
    }
   ],
   "source": [
    "age_list = [20, 21, 23, 34]\n",
    "print(age_list)\n",
    "\n",
    "# 반복문\n",
    "for age in age_list:\n",
    "    print(age)"
   ]
  },
  {
   "cell_type": "markdown",
   "metadata": {},
   "source": [
    "### Dict"
   ]
  },
  {
   "cell_type": "code",
   "execution_count": 18,
   "metadata": {},
   "outputs": [
    {
     "name": "stdout",
     "output_type": "stream",
     "text": [
      "{'name': '서장원', 'age': 20}\n",
      "서장원\n",
      "20\n"
     ]
    }
   ],
   "source": [
    "people = {\n",
    "    'name' : '서장원',\n",
    "    'age' : 20\n",
    "}\n",
    "print(people)\n",
    "print(people['name'])\n",
    "print(people['age'])"
   ]
  },
  {
   "cell_type": "markdown",
   "metadata": {},
   "source": [
    "# 조건문 & 반복문\n",
    "### 조건문"
   ]
  },
  {
   "cell_type": "code",
   "execution_count": 22,
   "metadata": {},
   "outputs": [
    {
     "name": "stdout",
     "output_type": "stream",
     "text": [
      "미성년자입니다.\n"
     ]
    }
   ],
   "source": [
    "age = 18\n",
    "if age > 19:\n",
    "    print(\"성인입니다.\")\n",
    "else:\n",
    "    print(\"미성년자입니다.\")"
   ]
  },
  {
   "cell_type": "markdown",
   "metadata": {},
   "source": [
    "### 반복문"
   ]
  },
  {
   "cell_type": "code",
   "execution_count": 25,
   "metadata": {},
   "outputs": [
    {
     "name": "stdout",
     "output_type": "stream",
     "text": [
      "안녕\n",
      "안녕\n",
      "안녕\n",
      "안녕\n",
      "안녕\n"
     ]
    }
   ],
   "source": [
    "for i in range(5):\n",
    "    print(\"안녕\")"
   ]
  },
  {
   "cell_type": "code",
   "execution_count": 27,
   "metadata": {},
   "outputs": [
    {
     "name": "stdout",
     "output_type": "stream",
     "text": [
      "0번째 사람의 나이는 20살 입니다.\n",
      "1번째 사람의 나이는 21살 입니다.\n",
      "2번째 사람의 나이는 23살 입니다.\n",
      "3번째 사람의 나이는 34살 입니다.\n"
     ]
    }
   ],
   "source": [
    "age_list = [20, 21, 23, 34]\n",
    "for idx,age in enumerate(age_list):\n",
    "    print(str(idx)+\"번째 사람의 나이는 \"+str(age)+\"살 입니다.\")"
   ]
  },
  {
   "cell_type": "markdown",
   "metadata": {},
   "source": [
    "### 심화"
   ]
  },
  {
   "cell_type": "code",
   "execution_count": 41,
   "metadata": {},
   "outputs": [
    {
     "name": "stdout",
     "output_type": "stream",
     "text": [
      "서장원님은 군필입니다.\n",
      "홍길동님은 미필입니다.\n",
      "홍길순님은 병역면제입니다.\n"
     ]
    }
   ],
   "source": [
    "people_list = [\n",
    "    {\n",
    "    'name' : '서장원',\n",
    "    'gender' :'남자',\n",
    "    'age' : 25\n",
    "    },\n",
    "    {\n",
    "    'name' : '홍길동',\n",
    "    'gender' : '남자',\n",
    "    'age' : 18 \n",
    "    },\n",
    "    {\n",
    "    'name' : '홍길순',\n",
    "    'gender' : '여자',\n",
    "    'age' : 20 \n",
    "    },\n",
    "]\n",
    "for people in people_list:\n",
    "    if people['gender'] == '남자' and people['age'] > 19:\n",
    "        print(people['name']+\"님은 군필입니다.\")\n",
    "    elif people['gender'] == '남자' and people['age'] <= 19:\n",
    "        print(people['name']+\"님은 미필입니다.\")\n",
    "    else:\n",
    "        print(people['name']+\"님은 병역면제입니다.\")"
   ]
  },
  {
   "cell_type": "markdown",
   "metadata": {},
   "source": [
    "# 함수"
   ]
  },
  {
   "cell_type": "code",
   "execution_count": 51,
   "metadata": {},
   "outputs": [
    {
     "name": "stdout",
     "output_type": "stream",
     "text": [
      "15\n"
     ]
    }
   ],
   "source": [
    "def add(x, y):\n",
    "    return x + y\n",
    "\n",
    "num_1 = 10\n",
    "num_2 = 5\n",
    "sum_val = add(num_1, num_2)\n",
    "print(sum_val)"
   ]
  },
  {
   "cell_type": "code",
   "execution_count": 52,
   "metadata": {},
   "outputs": [
    {
     "name": "stdout",
     "output_type": "stream",
     "text": [
      "['서장원님은 군필입니다.', '홍길동님은 미필입니다.', '홍길순님은 병역면제입니다.']\n"
     ]
    }
   ],
   "source": [
    "def army(people_list):\n",
    "    result = []\n",
    "    for people in people_list:\n",
    "        if people['gender'] == '남자' and people['age'] > 19:\n",
    "            result.append(people['name']+\"님은 군필입니다.\")\n",
    "        elif people['gender'] == '남자' and people['age'] <= 19:\n",
    "            result.append(people['name']+\"님은 미필입니다.\")\n",
    "        else:\n",
    "            result.append(people['name']+\"님은 병역면제입니다.\")\n",
    "    return result\n",
    "\n",
    "result = army(people_list)\n",
    "print(result)"
   ]
  },
  {
   "cell_type": "code",
   "execution_count": null,
   "metadata": {},
   "outputs": [],
   "source": []
  }
 ],
 "metadata": {
  "kernelspec": {
   "display_name": "Python 3",
   "language": "python",
   "name": "python3"
  },
  "language_info": {
   "codemirror_mode": {
    "name": "ipython",
    "version": 3
   },
   "file_extension": ".py",
   "mimetype": "text/x-python",
   "name": "python",
   "nbconvert_exporter": "python",
   "pygments_lexer": "ipython3",
   "version": "3.7.2"
  }
 },
 "nbformat": 4,
 "nbformat_minor": 2
}
