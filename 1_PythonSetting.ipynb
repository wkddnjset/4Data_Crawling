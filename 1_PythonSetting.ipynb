{
 "cells": [
  {
   "cell_type": "code",
   "execution_count": null,
   "metadata": {
    "slideshow": {
     "slide_type": "skip"
    }
   },
   "outputs": [],
   "source": [
    "# jupyter nbconvert 1_PythonSetting.ipynb --to slides --post serve"
   ]
  },
  {
   "cell_type": "markdown",
   "metadata": {
    "slideshow": {
     "slide_type": "slide"
    }
   },
   "source": [
    "# 안녕하세요!!"
   ]
  },
  {
   "cell_type": "markdown",
   "metadata": {
    "slideshow": {
     "slide_type": "slide"
    }
   },
   "source": [
    "# 오늘의 계획\n",
    "\n",
    "- Python 환경 설정 및 기본 지식\n",
    "- Selenium 설치 및 맛보기\n",
    "- 검색어에 따른 네이버 블로그 타이틀 수집\n",
    "- 비트코인 데이터 수집하기"
   ]
  },
  {
   "cell_type": "markdown",
   "metadata": {
    "slideshow": {
     "slide_type": "slide"
    }
   },
   "source": [
    "# Cmder 설치(윈도우)\n",
    "\n",
    "설치링크 : https://cmder.net/\n",
    "\n",
    "# 크롬도 설치해주세요!"
   ]
  },
  {
   "cell_type": "markdown",
   "metadata": {
    "slideshow": {
     "slide_type": "slide"
    }
   },
   "source": [
    "# 아나콘다 설치\n",
    "\n",
    "설치링크 ; https://www.anaconda.com/distribution/\n",
    "\n",
    "### Python 버전확인"
   ]
  },
  {
   "cell_type": "code",
   "execution_count": null,
   "metadata": {},
   "outputs": [],
   "source": [
    "> python --version"
   ]
  },
  {
   "cell_type": "markdown",
   "metadata": {
    "slideshow": {
     "slide_type": "slide"
    }
   },
   "source": [
    "# 가상환경\n",
    "\n",
    "PythonStudy 파일을 생성하고, 해당 파일 위치로 이동한 다음 가상환경 생성"
   ]
  },
  {
   "cell_type": "code",
   "execution_count": null,
   "metadata": {},
   "outputs": [],
   "source": [
    "> mkdir PythonStudy && cd PythonStudy\n",
    "> python -m venv ."
   ]
  },
  {
   "cell_type": "markdown",
   "metadata": {
    "slideshow": {
     "slide_type": "-"
    }
   },
   "source": [
    "## 가상환경 실행하기"
   ]
  },
  {
   "cell_type": "code",
   "execution_count": null,
   "metadata": {
    "slideshow": {
     "slide_type": "-"
    }
   },
   "outputs": [],
   "source": [
    "# window\n",
    "> Script/activate\n",
    "(PythonStudy) > "
   ]
  },
  {
   "cell_type": "code",
   "execution_count": null,
   "metadata": {},
   "outputs": [],
   "source": [
    "# mac\n",
    "> source bin/activate\n",
    "(PythonStudy) > "
   ]
  },
  {
   "cell_type": "markdown",
   "metadata": {
    "slideshow": {
     "slide_type": "slide"
    }
   },
   "source": [
    "# 라이브러리\n",
    "해당 환경에 설치된 라이브러리 확인하기"
   ]
  },
  {
   "cell_type": "code",
   "execution_count": null,
   "metadata": {},
   "outputs": [],
   "source": [
    "(PythonStudy) > pip freeze\n",
    "# 새로 생성된 환경이기 때문에 아무것도 뜨지 않는것이 정상입니다.\n",
    "(PythonStudy) > "
   ]
  },
  {
   "cell_type": "markdown",
   "metadata": {
    "slideshow": {
     "slide_type": "slide"
    }
   },
   "source": [
    "## 라이브러리 설치\n",
    "\n",
    "ipython\n",
    "> 웹 기반 파이썬 IDE"
   ]
  },
  {
   "cell_type": "code",
   "execution_count": null,
   "metadata": {},
   "outputs": [],
   "source": [
    "(PythonStudy) > pip install ipython"
   ]
  },
  {
   "cell_type": "markdown",
   "metadata": {
    "slideshow": {
     "slide_type": "slide"
    }
   },
   "source": [
    "# 동적웹과 정적웹\n",
    "\n",
    "- 동적웹은 자바스크립트 기반의 웹사이트 입니다.\n",
    "- 정적웹은 자바스크립트가 적용되지 않은 사이트 입니다."
   ]
  },
  {
   "cell_type": "markdown",
   "metadata": {
    "slideshow": {
     "slide_type": "slide"
    }
   },
   "source": [
    "# HTML의 기본지식(선택자)\n",
    "\n",
    "### 태그 (Tag)\n",
    "HHML의 기본 구성 요소\n",
    "\n",
    "### 클래스 (Class)\n",
    "중복해서 사용되는 값\n",
    "\n",
    "### 아이디 (Id)\n",
    "고유성을 지니고 있는 값"
   ]
  },
  {
   "cell_type": "code",
   "execution_count": null,
   "metadata": {},
   "outputs": [],
   "source": [
    "<div id=\"container\" class=\"box\">\n",
    "    <div class=\"item\"></div>\n",
    "    <div class=\"item\"></div>\n",
    "    <div class=\"item\"></div>\n",
    "</div>"
   ]
  },
  {
   "cell_type": "markdown",
   "metadata": {
    "slideshow": {
     "slide_type": "slide"
    }
   },
   "source": [
    "# ipython notebook 실행"
   ]
  },
  {
   "cell_type": "code",
   "execution_count": null,
   "metadata": {},
   "outputs": [],
   "source": [
    "(PythonStudy) > ipython notebook"
   ]
  },
  {
   "cell_type": "markdown",
   "metadata": {
    "slideshow": {
     "slide_type": "slide"
    }
   },
   "source": [
    "# Python 실습"
   ]
  },
  {
   "cell_type": "markdown",
   "metadata": {
    "slideshow": {
     "slide_type": "slide"
    }
   },
   "source": [
    "# Selenium 설치"
   ]
  },
  {
   "cell_type": "code",
   "execution_count": null,
   "metadata": {},
   "outputs": [],
   "source": [
    "> Scripts/activate\n",
    "# > source bin/activate\n",
    "(PythonStudy) > pip install selenium"
   ]
  },
  {
   "cell_type": "markdown",
   "metadata": {
    "slideshow": {
     "slide_type": "slide"
    }
   },
   "source": [
    "# 웹 드라이버 설치\n",
    "\n",
    "설치링크 : http://bitly.kr/bKFa0"
   ]
  },
  {
   "cell_type": "code",
   "execution_count": null,
   "metadata": {},
   "outputs": [],
   "source": [
    "from selenium import webdriver\n",
    "\n",
    "driver = webdriver.Chrome('C:/chromedriver')\n",
    "# driver = webdriver.Chrome('~/Downloads/chromedriver')\n",
    "driver.get('https://google.com')"
   ]
  },
  {
   "cell_type": "markdown",
   "metadata": {
    "slideshow": {
     "slide_type": "slide"
    }
   },
   "source": [
    "# Selenium 실습"
   ]
  }
 ],
 "metadata": {
  "celltoolbar": "Slideshow",
  "kernelspec": {
   "display_name": "Python 3",
   "language": "python",
   "name": "python3"
  },
  "language_info": {
   "codemirror_mode": {
    "name": "ipython",
    "version": 3
   },
   "file_extension": ".py",
   "mimetype": "text/x-python",
   "name": "python",
   "nbconvert_exporter": "python",
   "pygments_lexer": "ipython3",
   "version": "3.7.2"
  }
 },
 "nbformat": 4,
 "nbformat_minor": 2
}
